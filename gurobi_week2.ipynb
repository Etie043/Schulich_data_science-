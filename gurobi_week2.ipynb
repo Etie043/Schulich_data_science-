{
 "cells": [
  {
   "cell_type": "code",
   "execution_count": 1,
   "metadata": {},
   "outputs": [
    {
     "name": "stdout",
     "output_type": "stream",
     "text": [
      "Collecting gurobipy\n",
      "  Downloading gurobipy-12.0.0-cp311-cp311-win_amd64.whl.metadata (16 kB)\n",
      "Downloading gurobipy-12.0.0-cp311-cp311-win_amd64.whl (11.2 MB)\n",
      "   ---------------------------------------- 0.0/11.2 MB ? eta -:--:--\n",
      "   ----- ---------------------------------- 1.6/11.2 MB 9.3 MB/s eta 0:00:02\n",
      "   -------------- ------------------------- 3.9/11.2 MB 9.4 MB/s eta 0:00:01\n",
      "   --------------------- ------------------ 6.0/11.2 MB 9.7 MB/s eta 0:00:01\n",
      "   ----------------------------- ---------- 8.1/11.2 MB 9.9 MB/s eta 0:00:01\n",
      "   ------------------------------------- -- 10.5/11.2 MB 9.8 MB/s eta 0:00:01\n",
      "   ---------------------------------------- 11.2/11.2 MB 9.5 MB/s eta 0:00:00\n",
      "Installing collected packages: gurobipy\n",
      "Successfully installed gurobipy-12.0.0\n",
      "Note: you may need to restart the kernel to use updated packages.\n"
     ]
    }
   ],
   "source": [
    "pip install gurobipy"
   ]
  },
  {
   "cell_type": "code",
   "execution_count": 1,
   "metadata": {},
   "outputs": [
    {
     "name": "stdout",
     "output_type": "stream",
     "text": [
      "Set parameter Username\n",
      "Set parameter LicenseID to value 2609485\n",
      "Academic license - for non-commercial use only - expires 2026-01-13\n",
      "Gurobi license is active!\n"
     ]
    }
   ],
   "source": [
    "import gurobipy as gb\n",
    "gb.Model(\"test_model\")\n",
    "print(\"Gurobi license is active!\")\n"
   ]
  },
  {
   "cell_type": "code",
   "execution_count": 2,
   "metadata": {},
   "outputs": [
    {
     "name": "stdout",
     "output_type": "stream",
     "text": [
      "Gurobi Optimizer version 12.0.0 build v12.0.0rc1 (win64 - Windows 11.0 (26100.2))\n",
      "\n",
      "CPU model: 12th Gen Intel(R) Core(TM) i5-1235U, instruction set [SSE2|AVX|AVX2]\n",
      "Thread count: 10 physical cores, 12 logical processors, using up to 12 threads\n",
      "\n",
      "Optimize a model with 1 rows, 2 columns and 2 nonzeros\n",
      "Model fingerprint: 0x31e8eabe\n",
      "Coefficient statistics:\n",
      "  Matrix range     [1e+00, 2e+00]\n",
      "  Objective range  [1e+00, 1e+00]\n",
      "  Bounds range     [0e+00, 0e+00]\n",
      "  RHS range        [4e+00, 4e+00]\n",
      "Presolve removed 1 rows and 2 columns\n",
      "Presolve time: 0.00s\n",
      "Presolve: All rows and columns removed\n",
      "Iteration    Objective       Primal Inf.    Dual Inf.      Time\n",
      "       0    4.0000000e+00   0.000000e+00   0.000000e+00      0s\n",
      "\n",
      "Solved in 0 iterations and 0.02 seconds (0.00 work units)\n",
      "Optimal objective  4.000000000e+00\n",
      "x = 4.0\n",
      "y = 0.0\n",
      "Obj: 4.0\n"
     ]
    }
   ],
   "source": [
    "import gurobipy as gb\n",
    "from gurobipy import GRB\n",
    "\n",
    "# Create a new model\n",
    "model = gb.Model(\"test_model\")\n",
    "\n",
    "# Create variables\n",
    "x = model.addVar(vtype=GRB.CONTINUOUS, name=\"x\")\n",
    "y = model.addVar(vtype=GRB.CONTINUOUS, name=\"y\")\n",
    "\n",
    "# Set objective\n",
    "model.setObjective(x + y, GRB.MAXIMIZE)\n",
    "\n",
    "# Add constraint\n",
    "model.addConstr(x + 2 * y <= 4, \"c1\")\n",
    "\n",
    "# Optimize the model\n",
    "model.optimize()\n",
    "\n",
    "for v in model.getVars():\n",
    "    print(f'{v.varName} = {v.x}')\n",
    "\n",
    "print(f'Obj: {model.objVal}')\n"
   ]
  },
  {
   "cell_type": "code",
   "execution_count": 3,
   "metadata": {},
   "outputs": [],
   "source": [
    "# Create the optimization model\n",
    "model = gb.Model(\"LG Example\")"
   ]
  },
  {
   "cell_type": "code",
   "execution_count": 4,
   "metadata": {},
   "outputs": [],
   "source": [
    "# Create the three classes of decision variables (type A, B, and C)\n",
    "a = model.addVar(lb=0, vtype=GRB.CONTINUOUS, name=\"Type A\")\n",
    "b = model.addVar(lb=0, vtype=GRB.CONTINUOUS, name=\"Type B\")\n",
    "c = model.addVar(lb=0, vtype=GRB.CONTINUOUS, name=\"Type C\")\n",
    "# lb means lower-bound, \n",
    "\n",
    "# The objective function\n",
    "model.setObjective(60*a + 75*b + 80*c, GRB.MAXIMIZE)"
   ]
  },
  {
   "cell_type": "code",
   "execution_count": 5,
   "metadata": {},
   "outputs": [
    {
     "data": {
      "text/plain": [
       "<gurobi.Constr *Awaiting Model Update*>"
      ]
     },
     "execution_count": 5,
     "metadata": {},
     "output_type": "execute_result"
    }
   ],
   "source": [
    "# Add the constraints\n",
    "model.addConstr(2*a + 1.5*b + 3*c <= 10000, \"Assembly Constraint\")\n",
    "model.addConstr(a + 2*b + c <= 5000, \"Package Constraint\")\n",
    "\n",
    "# We could also define these constraints as upper bounds in the definition of the decision variables\n",
    "model.addConstr(a <= 3000, \"Order Limit Constraint (Type A)\")\n",
    "model.addConstr(b <= 2000, \"Order Limit Constraint (Type B)\")\n",
    "model.addConstr(c <= 900, \"Order Limit Constraint (Type C)\")\n",
    "# there is a different way to write this code."
   ]
  },
  {
   "cell_type": "code",
   "execution_count": 6,
   "metadata": {},
   "outputs": [
    {
     "name": "stdout",
     "output_type": "stream",
     "text": [
      "Gurobi Optimizer version 12.0.0 build v12.0.0rc1 (win64 - Windows 11.0 (26100.2))\n",
      "\n",
      "CPU model: 12th Gen Intel(R) Core(TM) i5-1235U, instruction set [SSE2|AVX|AVX2]\n",
      "Thread count: 10 physical cores, 12 logical processors, using up to 12 threads\n",
      "\n",
      "Optimize a model with 5 rows, 3 columns and 9 nonzeros\n",
      "Model fingerprint: 0x4d176d43\n",
      "Coefficient statistics:\n",
      "  Matrix range     [1e+00, 3e+00]\n",
      "  Objective range  [6e+01, 8e+01]\n",
      "  Bounds range     [0e+00, 0e+00]\n",
      "  RHS range        [9e+02, 1e+04]\n",
      "Presolve removed 3 rows and 0 columns\n",
      "Presolve time: 0.01s\n",
      "Presolved: 2 rows, 3 columns, 6 nonzeros\n",
      "\n",
      "Iteration    Objective       Primal Inf.    Dual Inf.      Time\n",
      "       0    5.0000000e+05   2.208333e+03   0.000000e+00      0s\n",
      "       3    2.9325000e+05   0.000000e+00   0.000000e+00      0s\n",
      "\n",
      "Solved in 3 iterations and 0.01 seconds (0.00 work units)\n",
      "Optimal objective  2.932500000e+05\n",
      "Number of Decision Variables:  3\n",
      "Model Status:  2\n",
      "293250.0\n",
      "\n",
      "    Variable            X \n",
      "-------------------------\n",
      "      Type A         3000 \n",
      "      Type B          550 \n",
      "      Type C          900 \n",
      "None\n"
     ]
    }
   ],
   "source": [
    "# Optimally solve the problem\n",
    "model.optimize()\n",
    "\n",
    "# Number of variables in the model\n",
    "print(\"Number of Decision Variables: \", model.numVars)\n",
    "\n",
    "# The status of the model (Optimization Status Codes)\n",
    "print(\"Model Status: \", model.status)\n",
    "\n",
    "# Print the objective\n",
    "print(model.ObjVal)\n",
    "\n",
    "# Print the decision variables\n",
    "print(model.printAttr('X'))"
   ]
  },
  {
   "cell_type": "markdown",
   "metadata": {},
   "source": [
    "## Example 2"
   ]
  },
  {
   "cell_type": "code",
   "execution_count": 7,
   "metadata": {},
   "outputs": [],
   "source": [
    "# Create the optimization model\n",
    "model = gb.Model(\"Transportation Problem\")\n",
    "\n",
    "# A list of list of costs\n",
    "costs = [[21, 50, 40], [35, 30, 22], [55, 20, 25]]\n",
    "supply = [275000, 400000, 300000]\n",
    "demand = [200000, 600000, 225000]"
   ]
  },
  {
   "cell_type": "code",
   "execution_count": 8,
   "metadata": {},
   "outputs": [
    {
     "name": "stdout",
     "output_type": "stream",
     "text": [
      "Gurobi Optimizer version 12.0.0 build v12.0.0rc1 (win64 - Windows 11.0 (26100.2))\n",
      "\n",
      "CPU model: 12th Gen Intel(R) Core(TM) i5-1235U, instruction set [SSE2|AVX|AVX2]\n",
      "Thread count: 10 physical cores, 12 logical processors, using up to 12 threads\n",
      "\n",
      "Optimize a model with 6 rows, 9 columns and 18 nonzeros\n",
      "Model fingerprint: 0x43d91904\n",
      "Coefficient statistics:\n",
      "  Matrix range     [1e+00, 1e+00]\n",
      "  Objective range  [2e+01, 6e+01]\n",
      "  Bounds range     [0e+00, 0e+00]\n",
      "  RHS range        [2e+05, 6e+05]\n",
      "Presolve time: 0.01s\n",
      "Presolved: 6 rows, 9 columns, 18 nonzeros\n",
      "\n",
      "Iteration    Objective       Primal Inf.    Dual Inf.      Time\n",
      "       0    2.0575000e+07   2.500000e+05   0.000000e+00      0s\n",
      "       2    2.4000000e+07   0.000000e+00   0.000000e+00      0s\n",
      "\n",
      "Solved in 2 iterations and 0.02 seconds (0.00 work units)\n",
      "Optimal objective  2.400000000e+07\n",
      "Number of Decision Variables:  9\n",
      "Total Transportation cost:  24000000.0\n",
      "\n",
      "    Variable            X \n",
      "-------------------------\n",
      "Transportation Plan[0,0]       200000 \n",
      "Transportation Plan[0,2]        75000 \n",
      "Transportation Plan[1,1]       250000 \n",
      "Transportation Plan[1,2]       150000 \n",
      "Transportation Plan[2,1]       300000 \n",
      "None\n"
     ]
    }
   ],
   "source": [
    "# Create the a single class of decision variables\n",
    "x = model.addVars(3, 3, lb=0, vtype=GRB.CONTINUOUS, name=\"Transportation Plan\")\n",
    "\n",
    "# The objective function\n",
    "model.setObjective(gb.quicksum(costs[i][j]*x[i,j] for i in range(3) for j in range(3)), GRB.MINIMIZE)\n",
    "# NOTE: for the range (3) the numbers goes 0,1,2 not 1,2,3\n",
    "\n",
    "# Add the supply constraints\n",
    "for i in range(3):\n",
    "    model.addConstr(gb.quicksum(x[i,j] for j in range(3)) == supply[i], name=\"Supply Constraint %i\" %i)\n",
    "\n",
    "# Add the demand constraints\n",
    "for j in range(3):\n",
    "    model.addConstr(gb.quicksum(x[i,j] for i in range(3)) <= demand[j], name=\"Demand Constraint %i\" %j)\n",
    "\n",
    "# Optimally solve the problem\n",
    "model.optimize()\n",
    "\n",
    "# Number of variables in the model\n",
    "print(\"Number of Decision Variables: \", model.numVars)\n",
    "\n",
    "# Value of the objective function\n",
    "print(\"Total Transportation cost: \", model.objVal)\n",
    "\n",
    "# Print the decision variables\n",
    "print(model.printAttr('X'))"
   ]
  },
  {
   "cell_type": "markdown",
   "metadata": {},
   "source": [
    "## Example 3"
   ]
  },
  {
   "cell_type": "code",
   "execution_count": 9,
   "metadata": {},
   "outputs": [],
   "source": [
    "# Create the optimization model\n",
    "model = gb.Model(\"Transshipment Problem\")\n",
    "\n",
    "# A list of list of costs\n",
    "source_costs = [[11, 10, 26, 29], [9, 12, 27, 26]]\n",
    "trans_costs = [[12, 16], [13, 15]]"
   ]
  },
  {
   "cell_type": "code",
   "execution_count": 10,
   "metadata": {},
   "outputs": [],
   "source": [
    "# Create the a single class of decision variables where\n",
    "# From = {𝑫𝒂,𝑯𝒐} and To = {𝑪𝒉,𝑳𝑨,𝑺𝑭,𝑵𝒀}.\n",
    "x = model.addVars(2, 4, lb=0, vtype=GRB.CONTINUOUS, name=\"Source Nodes\")\n",
    "# From = {𝑪𝒉,𝑳𝑨} and To = {𝑺𝑭,𝑵𝒀}.\n",
    "y = model.addVars(2, 2, lb=0, vtype=GRB.CONTINUOUS, name=\"Transshipment Nodes\")\n",
    "\n",
    "# The objective function\n",
    "source_objective = gb.quicksum(source_costs[i][j]*x[i,j] for i in range(2) for j in range(4))\n",
    "trans_objective = gb.quicksum(trans_costs[i][j]*y[i,j] for i in range(2) for j in range(2))\n",
    "model.setObjective(source_objective + trans_objective, GRB.MINIMIZE)"
   ]
  },
  {
   "cell_type": "code",
   "execution_count": 11,
   "metadata": {},
   "outputs": [
    {
     "name": "stdout",
     "output_type": "stream",
     "text": [
      "Gurobi Optimizer version 12.0.0 build v12.0.0rc1 (win64 - Windows 11.0 (26100.2))\n",
      "\n",
      "CPU model: 12th Gen Intel(R) Core(TM) i5-1235U, instruction set [SSE2|AVX|AVX2]\n",
      "Thread count: 10 physical cores, 12 logical processors, using up to 12 threads\n",
      "\n",
      "Optimize a model with 9 rows, 12 columns and 36 nonzeros\n",
      "Model fingerprint: 0x828d4180\n",
      "Coefficient statistics:\n",
      "  Matrix range     [4e-01, 1e+00]\n",
      "  Objective range  [9e+00, 3e+01]\n",
      "  Bounds range     [0e+00, 0e+00]\n",
      "  RHS range        [8e+01, 2e+02]\n",
      "Presolve time: 0.01s\n",
      "Presolved: 9 rows, 12 columns, 36 nonzeros\n",
      "\n",
      "Iteration    Objective       Primal Inf.    Dual Inf.      Time\n",
      "       0    3.7800000e+03   4.480000e+02   0.000000e+00      0s\n",
      "       5    6.9040000e+03   0.000000e+00   0.000000e+00      0s\n",
      "\n",
      "Solved in 5 iterations and 0.01 seconds (0.00 work units)\n",
      "Optimal objective  6.904000000e+03\n",
      "Number of Decision Variables:  12\n",
      "Total Transportation cost:  6904.0\n",
      "Total Transportation cost:  6904.0\n",
      "\n",
      "    Variable            X \n",
      "-------------------------\n",
      "Source Nodes[0,1]           46 \n",
      "Source Nodes[0,2]           74 \n",
      "Source Nodes[1,0]           66 \n",
      "Source Nodes[1,3]           94 \n",
      "Transshipment Nodes[0,0]           66 \n",
      "Transshipment Nodes[1,1]           46 \n",
      "None\n"
     ]
    }
   ],
   "source": [
    "# Add the supply constraints from source nodes\n",
    "model.addConstr(gb.quicksum(x[0,j] for j in range(4)) <= 200, name=\"Supply Constraint 1\")\n",
    "model.addConstr(gb.quicksum(x[1,j] for j in range(4)) <= 160, name=\"Supply Constraint 2\")\n",
    "    \n",
    "# Add the supply constraints from transshipment nodes\n",
    "model.addConstr(gb.quicksum(x[i,0] for i in range(2)) <= 90, name=\"Transship Capacity 1\")\n",
    "model.addConstr(gb.quicksum(x[i,1] for i in range(2)) <= 80, name=\"Transship Capacity 2\")\n",
    "\n",
    "# Add the flow balance constrainits\n",
    "model.addConstr(gb.quicksum(x[i,0] for i in range(2)) == gb.quicksum(y[0,k] for k in range(2)), name=\"Flow Balance 1\")\n",
    "model.addConstr(gb.quicksum(x[i,1] for i in range(2)) == gb.quicksum(y[1,k] for k in range(2)), name=\"Flow Balance 2\")\n",
    "\n",
    "# Add the demand constraints\n",
    "model.addConstr(gb.quicksum(x[i,2] + y[i,0] for i in range(2)) == 140, name=\"Demand Constraint 1\")\n",
    "model.addConstr(gb.quicksum(x[i,3] + y[i,1] for i in range(2)) == 140, name=\"Demand Constraint 2\")\n",
    "\n",
    "# Ratio constraint\n",
    "model.addConstr(0.6*gb.quicksum(y[i,j] for i in range(2) for j in range(2)) <= 0.4*gb.quicksum(x[i,j] for i in range(2) for j in range(2,4)), name=\"Ratio constraint\")\n",
    "\n",
    "# Optimally solve the problem\n",
    "model.optimize()\n",
    "\n",
    "# Number of variables in the model\n",
    "print(\"Number of Decision Variables: \", model.numVars)\n",
    "\n",
    "# Value of the objective function\n",
    "print(\"Total Transportation cost: \", source_objective.getValue() + trans_objective.getValue())\n",
    "print(\"Total Transportation cost: \", model.ObjVal)\n",
    "\n",
    "# Print the decision variables\n",
    "print(model.printAttr('X'))"
   ]
  },
  {
   "cell_type": "markdown",
   "metadata": {},
   "source": [
    "## Example 3"
   ]
  },
  {
   "cell_type": "code",
   "execution_count": 12,
   "metadata": {},
   "outputs": [],
   "source": [
    "# Create the optimization model\n",
    "model = gb.Model(\"Tower Research\")\n",
    "\n",
    "# Create the three classes of decision variables where each Python\n",
    "# variable represents a different number of Gurobi decision variables\n",
    "I = model.addVars(2, lb=0, vtype=GRB.CONTINUOUS, name=\"Invest\")\n",
    "B = model.addVars(3, lb=0, vtype=GRB.CONTINUOUS, name=\"Borrow\")\n",
    "w = model.addVars(4, lb=0, vtype=GRB.CONTINUOUS, name=\"Wealth\")\n",
    "\n",
    "# The objective function\n",
    "model.setObjective(w[3], GRB.MAXIMIZE)"
   ]
  },
  {
   "cell_type": "code",
   "execution_count": 13,
   "metadata": {},
   "outputs": [],
   "source": [
    "# Add the constraints\n",
    "model.addConstr(w[0] == 4000 + 1000 + B[0] - 1200 - I[0], \"Period 1 Constraint\")\n",
    "model.addConstr(w[1] == w[0] + B[1] + 4400 - 1.03*B[0] - 4800 - I[1], \"Period 1 Constraint\")\n",
    "model.addConstr(w[2] == w[1] + B[2] + 5800 + 1.02*I[0] - 4212 - 1.03*B[1], \"Period 2 Constraint\")\n",
    "model.addConstr(w[3] == w[2] + 3000 + 1.02*I[1] - 1000 - 1.03*B[2], \"Period 3 Constraint\")\n",
    "\n",
    "# We could also define these constraints as upper bounds in the definition of the decision variables\n",
    "for t in range(3):\n",
    "    model.addConstr(B[t] <= 3000, \"Borrowing Constraint %i\" % t)"
   ]
  },
  {
   "cell_type": "code",
   "execution_count": 14,
   "metadata": {},
   "outputs": [
    {
     "name": "stdout",
     "output_type": "stream",
     "text": [
      "Gurobi Optimizer version 12.0.0 build v12.0.0rc1 (win64 - Windows 11.0 (26100.2))\n",
      "\n",
      "CPU model: 12th Gen Intel(R) Core(TM) i5-1235U, instruction set [SSE2|AVX|AVX2]\n",
      "Thread count: 10 physical cores, 12 logical processors, using up to 12 threads\n",
      "\n",
      "Optimize a model with 7 rows, 9 columns and 20 nonzeros\n",
      "Model fingerprint: 0x3ff2f1ed\n",
      "Coefficient statistics:\n",
      "  Matrix range     [1e+00, 1e+00]\n",
      "  Objective range  [1e+00, 1e+00]\n",
      "  Bounds range     [0e+00, 0e+00]\n",
      "  RHS range        [4e+02, 4e+03]\n",
      "Presolve removed 3 rows and 0 columns\n",
      "Presolve time: 0.02s\n",
      "Presolved: 4 rows, 9 columns, 17 nonzeros\n",
      "\n",
      "Iteration    Objective       Primal Inf.    Dual Inf.      Time\n",
      "       0    3.2544513e+04   5.244513e+03   0.000000e+00      0s\n",
      "       2    7.0560000e+03   0.000000e+00   0.000000e+00      0s\n",
      "\n",
      "Solved in 2 iterations and 0.04 seconds (0.00 work units)\n",
      "Optimal objective  7.056000000e+03\n",
      "Number of Constraints:  7\n",
      "Model Status:  2\n",
      "\n",
      "    Variable            X \n",
      "-------------------------\n",
      "   Invest[1]         3400 \n",
      "   Wealth[0]         3800 \n",
      "   Wealth[2]         1588 \n",
      "   Wealth[3]         7056 \n",
      "None\n",
      "Total costs:  7056.0\n"
     ]
    }
   ],
   "source": [
    "# Optimally solve the problem\n",
    "model.optimize()\n",
    "\n",
    "# Number of constraints in the model\n",
    "print(\"Number of Constraints: \", model.numConstrs)\n",
    "\n",
    "# The status of the model\n",
    "print(\"Model Status: \", model.status)\n",
    "\n",
    "# Print the decision variables\n",
    "print(model.printAttr('X'))\n",
    "\n",
    "# Value of the objective function\n",
    "print(\"Total costs: \", model.objVal)"
   ]
  },
  {
   "cell_type": "markdown",
   "metadata": {},
   "source": [
    "it is not showing wealth (1) because you want to invest as much as possible in invest (1) to make more money."
   ]
  },
  {
   "cell_type": "code",
   "execution_count": null,
   "metadata": {},
   "outputs": [],
   "source": []
  }
 ],
 "metadata": {
  "kernelspec": {
   "display_name": "Python 3",
   "language": "python",
   "name": "python3"
  },
  "language_info": {
   "codemirror_mode": {
    "name": "ipython",
    "version": 3
   },
   "file_extension": ".py",
   "mimetype": "text/x-python",
   "name": "python",
   "nbconvert_exporter": "python",
   "pygments_lexer": "ipython3",
   "version": "3.11.9"
  }
 },
 "nbformat": 4,
 "nbformat_minor": 2
}
